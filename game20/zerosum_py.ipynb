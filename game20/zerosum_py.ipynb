{
 "cells": [
  {
   "cell_type": "markdown",
   "metadata": {},
   "source": [
    "# 零和ゲームのナッシュ均衡\n",
    "\n",
    "`quantecon.game_theory` と `scipy.optimize.linprog` で求めてみる"
   ]
  },
  {
   "cell_type": "code",
   "execution_count": 1,
   "metadata": {},
   "outputs": [],
   "source": [
    "import numpy as np\n",
    "from scipy.optimize import linprog\n",
    "import quantecon.game_theory as gt"
   ]
  },
  {
   "cell_type": "markdown",
   "metadata": {},
   "source": [
    "じゃんけん・ゲームを例に計算してみる．"
   ]
  },
  {
   "cell_type": "markdown",
   "metadata": {},
   "source": [
    "あとあと便利なので，`NumPy array` としてプレイヤー0の利得行列を定義しておく:"
   ]
  },
  {
   "cell_type": "code",
   "execution_count": 2,
   "metadata": {},
   "outputs": [],
   "source": [
    "U = np.array(\n",
    "    [[0, -1, 1],\n",
    "     [1, 0, -1],\n",
    "     [-1, 1, 0]]\n",
    ")"
   ]
  },
  {
   "cell_type": "markdown",
   "metadata": {},
   "source": [
    "## `quantecon.game_theory` でナッシュ均衡を求める"
   ]
  },
  {
   "cell_type": "code",
   "execution_count": 3,
   "metadata": {},
   "outputs": [],
   "source": [
    "p0 = gt.Player(U)\n",
    "p1 = gt.Player(-U.T)"
   ]
  },
  {
   "cell_type": "markdown",
   "metadata": {},
   "source": [
    "プレイヤー1の行列は `-U` の転置 (`.T`) であることに注意．"
   ]
  },
  {
   "cell_type": "code",
   "execution_count": 4,
   "metadata": {},
   "outputs": [],
   "source": [
    "g = gt.NormalFormGame((p0, p1))"
   ]
  },
  {
   "cell_type": "code",
   "execution_count": 5,
   "metadata": {
    "scrolled": true
   },
   "outputs": [
    {
     "name": "stdout",
     "output_type": "stream",
     "text": [
      "2-player NormalFormGame with payoff profile array:\n",
      "[[[ 0,  0],  [-1,  1],  [ 1, -1]],\n",
      " [[ 1, -1],  [ 0,  0],  [-1,  1]],\n",
      " [[-1,  1],  [ 1, -1],  [ 0,  0]]]\n"
     ]
    }
   ],
   "source": [
    "print(g)"
   ]
  },
  {
   "cell_type": "code",
   "execution_count": 6,
   "metadata": {},
   "outputs": [
    {
     "data": {
      "text/plain": [
       "(array([0.33333333, 0.33333333, 0.33333333]),\n",
       " array([0.33333333, 0.33333333, 0.33333333]))"
      ]
     },
     "execution_count": 6,
     "metadata": {},
     "output_type": "execute_result"
    }
   ],
   "source": [
    "gt.lemke_howson(g)"
   ]
  },
  {
   "cell_type": "code",
   "execution_count": 7,
   "metadata": {
    "scrolled": true
   },
   "outputs": [
    {
     "data": {
      "text/plain": [
       "[(array([0.33333333, 0.33333333, 0.33333333]),\n",
       "  array([0.33333333, 0.33333333, 0.33333333]))]"
      ]
     },
     "execution_count": 7,
     "metadata": {},
     "output_type": "execute_result"
    }
   ],
   "source": [
    "gt.support_enumeration(g)"
   ]
  },
  {
   "cell_type": "markdown",
   "metadata": {},
   "source": [
    "## `scipy.optimize.linprog` で線形計画問題を解くことでナッシュ均衡を求める"
   ]
  },
  {
   "cell_type": "markdown",
   "metadata": {},
   "source": [
    "主問題:\n",
    "$$\n",
    "\\min u\n",
    "$$\n",
    "subject to\n",
    "$$\n",
    "U y - \\mathbf{1} u \\leq \\mathbf{0},\\quad\n",
    "\\mathbf{1}' y = 1,\\quad\n",
    "y \\geq \\mathbf{0}\n",
    "$$"
   ]
  },
  {
   "cell_type": "markdown",
   "metadata": {},
   "source": [
    "これを\n",
    "[`scipy.optimize.linprog`](https://docs.scipy.org/doc/scipy/reference/generated/scipy.optimize.linprog.html)\n",
    "の形式\n",
    "$$\n",
    "\\max c' x\n",
    "$$\n",
    "subject to\n",
    "$$\n",
    "A_{\\mathit{ub}} x \\leq b_{\\mathit{ub}},\\quad\n",
    "A_{\\mathit{eq}} x = b_{\\mathit{eq}},\\quad\n",
    "l \\leq x \\leq u\n",
    "$$\n",
    "に合わせると，\n",
    "$$\n",
    "x =\n",
    "\\begin{pmatrix}\n",
    "y \\\\ u\n",
    "\\end{pmatrix},\\ %\n",
    "c =\n",
    "\\begin{pmatrix}\n",
    "\\mathbf{0} \\\\ 1\n",
    "\\end{pmatrix},\\ %\n",
    "A_{\\mathit{ub}} =\n",
    "\\begin{pmatrix}\n",
    "U & -\\mathbf{1}\n",
    "\\end{pmatrix},\\ %\n",
    "b_{\\mathit{ub}} = \\mathbf{0},\\ %\n",
    "A_{\\mathit{eq}} =\n",
    "\\begin{pmatrix}\n",
    "\\mathbf{1}' & 0\n",
    "\\end{pmatrix},\\ %\n",
    "b_{\\mathit{eq}} = \\begin{pmatrix}1\\end{pmatrix}\n",
    "$$\n",
    "$$\n",
    "l =\n",
    "\\begin{pmatrix}\n",
    "0 & \\cdots & 0 & -\\infty\n",
    "\\end{pmatrix}',\\ %\n",
    "u =\n",
    "\\begin{pmatrix}\n",
    "\\infty & \\cdots & \\infty\n",
    "\\end{pmatrix}'\n",
    "$$"
   ]
  },
  {
   "cell_type": "markdown",
   "metadata": {},
   "source": [
    "両プレイヤーの戦略の数をそれぞれ $m$, $n$ とする:"
   ]
  },
  {
   "cell_type": "code",
   "execution_count": 8,
   "metadata": {},
   "outputs": [],
   "source": [
    "m, n = U.shape"
   ]
  },
  {
   "cell_type": "markdown",
   "metadata": {},
   "source": [
    "各入力を定義する:"
   ]
  },
  {
   "cell_type": "code",
   "execution_count": 9,
   "metadata": {},
   "outputs": [
    {
     "data": {
      "text/plain": [
       "array([0., 0., 0., 1.])"
      ]
     },
     "execution_count": 9,
     "metadata": {},
     "output_type": "execute_result"
    }
   ],
   "source": [
    "c = np.zeros(n+1)\n",
    "c[-1] = 1\n",
    "c"
   ]
  },
  {
   "cell_type": "code",
   "execution_count": 10,
   "metadata": {},
   "outputs": [
    {
     "data": {
      "text/plain": [
       "array([[ 0, -1,  1, -1],\n",
       "       [ 1,  0, -1, -1],\n",
       "       [-1,  1,  0, -1]])"
      ]
     },
     "execution_count": 10,
     "metadata": {},
     "output_type": "execute_result"
    }
   ],
   "source": [
    "A_ub = np.hstack((U, np.full((m, 1), -1)))\n",
    "A_ub"
   ]
  },
  {
   "cell_type": "code",
   "execution_count": 11,
   "metadata": {},
   "outputs": [
    {
     "data": {
      "text/plain": [
       "array([0., 0., 0.])"
      ]
     },
     "execution_count": 11,
     "metadata": {},
     "output_type": "execute_result"
    }
   ],
   "source": [
    "b_ub = np.zeros(m)\n",
    "b_ub"
   ]
  },
  {
   "cell_type": "code",
   "execution_count": 12,
   "metadata": {},
   "outputs": [
    {
     "data": {
      "text/plain": [
       "array([[1., 1., 1., 0.]])"
      ]
     },
     "execution_count": 12,
     "metadata": {},
     "output_type": "execute_result"
    }
   ],
   "source": [
    "A_eq = np.ones((1, n+1))\n",
    "A_eq[0, -1] = 0\n",
    "A_eq"
   ]
  },
  {
   "cell_type": "code",
   "execution_count": 13,
   "metadata": {},
   "outputs": [
    {
     "data": {
      "text/plain": [
       "array([1.])"
      ]
     },
     "execution_count": 13,
     "metadata": {},
     "output_type": "execute_result"
    }
   ],
   "source": [
    "b_eq = np.ones(1)\n",
    "b_eq"
   ]
  },
  {
   "cell_type": "code",
   "execution_count": 14,
   "metadata": {
    "scrolled": true
   },
   "outputs": [
    {
     "data": {
      "text/plain": [
       "[(0, None), (0, None), (0, None), (None, None)]"
      ]
     },
     "execution_count": 14,
     "metadata": {},
     "output_type": "execute_result"
    }
   ],
   "source": [
    "bounds = [(0, None)] * n + [(None, None)]\n",
    "bounds"
   ]
  },
  {
   "cell_type": "markdown",
   "metadata": {},
   "source": [
    "`scipy.optimize.linprog` に渡して解かせる:"
   ]
  },
  {
   "cell_type": "code",
   "execution_count": 15,
   "metadata": {},
   "outputs": [],
   "source": [
    "res_p = linprog(c, A_ub, b_ub, A_eq, b_eq, bounds)"
   ]
  },
  {
   "cell_type": "markdown",
   "metadata": {},
   "source": [
    "結果:"
   ]
  },
  {
   "cell_type": "code",
   "execution_count": 16,
   "metadata": {
    "scrolled": true
   },
   "outputs": [
    {
     "data": {
      "text/plain": [
       "     con: array([-6.61914967e-13])\n",
       "     fun: -3.2190916599006414e-13\n",
       " message: 'Optimization terminated successfully.'\n",
       "     nit: 4\n",
       "   slack: array([-3.21909166e-13, -3.21964677e-13, -3.21853655e-13])\n",
       "  status: 0\n",
       " success: True\n",
       "       x: array([ 3.33333333e-01,  3.33333333e-01,  3.33333333e-01, -3.21909166e-13])"
      ]
     },
     "execution_count": 16,
     "metadata": {},
     "output_type": "execute_result"
    }
   ],
   "source": [
    "res_p"
   ]
  },
  {
   "cell_type": "markdown",
   "metadata": {},
   "source": [
    "プレイヤー1の均衡戦略:"
   ]
  },
  {
   "cell_type": "code",
   "execution_count": 17,
   "metadata": {},
   "outputs": [
    {
     "data": {
      "text/plain": [
       "array([0.33333333, 0.33333333, 0.33333333])"
      ]
     },
     "execution_count": 17,
     "metadata": {},
     "output_type": "execute_result"
    }
   ],
   "source": [
    "res_p.x[:-1]"
   ]
  },
  {
   "cell_type": "markdown",
   "metadata": {},
   "source": [
    "ゲームの値:"
   ]
  },
  {
   "cell_type": "code",
   "execution_count": 18,
   "metadata": {},
   "outputs": [
    {
     "data": {
      "text/plain": [
       "-3.2190916599006414e-13"
      ]
     },
     "execution_count": 18,
     "metadata": {},
     "output_type": "execute_result"
    }
   ],
   "source": [
    "res_p.x[-1]"
   ]
  },
  {
   "cell_type": "markdown",
   "metadata": {},
   "source": [
    "`scipy.optimize.linprog` は双対解を返してくれないようなので，双対問題も定式化して解かせる:\n",
    "$$\n",
    "\\min -v\n",
    "$$\n",
    "subject to\n",
    "$$\n",
    "-U' x + \\mathbf{1} v \\leq \\mathbf{0},\\quad\n",
    "\\mathbf{1}' x = 1,\\quad\n",
    "x \\geq \\mathbf{0}\n",
    "$$"
   ]
  },
  {
   "cell_type": "code",
   "execution_count": 19,
   "metadata": {},
   "outputs": [],
   "source": [
    "c = np.zeros(m+1)\n",
    "c[-1] = -1\n",
    "\n",
    "A_ub = np.hstack((-U.T, np.full((n, 1), 1)))\n",
    "b_ub = np.zeros(n)\n",
    "\n",
    "A_eq = np.ones((1, m+1))\n",
    "A_eq[0, -1] = 0\n",
    "b_eq = np.ones(1)\n",
    "\n",
    "bounds = [(0, None)] * m + [(None, None)]"
   ]
  },
  {
   "cell_type": "code",
   "execution_count": 20,
   "metadata": {},
   "outputs": [
    {
     "data": {
      "text/plain": [
       "     con: array([-6.61692923e-13])\n",
       "     fun: -3.2213121059498917e-13\n",
       " message: 'Optimization terminated successfully.'\n",
       "     nit: 4\n",
       "   slack: array([-3.19910765e-13, -3.22741833e-13, -3.23741034e-13])\n",
       "  status: 0\n",
       " success: True\n",
       "       x: array([3.33333333e-01, 3.33333333e-01, 3.33333333e-01, 3.22131211e-13])"
      ]
     },
     "execution_count": 20,
     "metadata": {},
     "output_type": "execute_result"
    }
   ],
   "source": [
    "res_d = linprog(c, A_ub, b_ub, A_eq, b_eq, bounds)\n",
    "res_d"
   ]
  },
  {
   "cell_type": "markdown",
   "metadata": {},
   "source": [
    "プレイヤー0の均衡戦略:"
   ]
  },
  {
   "cell_type": "code",
   "execution_count": 21,
   "metadata": {},
   "outputs": [
    {
     "data": {
      "text/plain": [
       "array([0.33333333, 0.33333333, 0.33333333])"
      ]
     },
     "execution_count": 21,
     "metadata": {},
     "output_type": "execute_result"
    }
   ],
   "source": [
    "res_d.x[:-1]"
   ]
  },
  {
   "cell_type": "markdown",
   "metadata": {},
   "source": [
    "ゲームの値:"
   ]
  },
  {
   "cell_type": "code",
   "execution_count": 22,
   "metadata": {},
   "outputs": [
    {
     "data": {
      "text/plain": [
       "3.2213121059498917e-13"
      ]
     },
     "execution_count": 22,
     "metadata": {},
     "output_type": "execute_result"
    }
   ],
   "source": [
    "res_d.x[-1]"
   ]
  },
  {
   "cell_type": "markdown",
   "metadata": {},
   "source": [
    "微妙は誤差はある:"
   ]
  },
  {
   "cell_type": "code",
   "execution_count": 23,
   "metadata": {},
   "outputs": [
    {
     "data": {
      "text/plain": [
       "-6.440403765850533e-13"
      ]
     },
     "execution_count": 23,
     "metadata": {},
     "output_type": "execute_result"
    }
   ],
   "source": [
    "res_p.x[-1] - res_d.x[-1]"
   ]
  },
  {
   "cell_type": "markdown",
   "metadata": {},
   "source": [
    "## 関数としてまとめてみる"
   ]
  },
  {
   "cell_type": "code",
   "execution_count": 24,
   "metadata": {},
   "outputs": [],
   "source": [
    "def solve_zerosum_lemke_howson(U):\n",
    "    g = gt.NormalFormGame((gt.Player(U), gt.Player(-U.T)))\n",
    "    NE = gt.lemke_howson(g)\n",
    "    return NE"
   ]
  },
  {
   "cell_type": "code",
   "execution_count": 25,
   "metadata": {},
   "outputs": [],
   "source": [
    "def solve_zerosum_linprog(U, method='revised simplex'):\n",
    "    U = np.asarray(U)\n",
    "    m, n = U.shape\n",
    "    \n",
    "    # Primal problem\n",
    "    c = np.zeros(n+1)\n",
    "    c[-1] = 1\n",
    "    A_ub = np.hstack((U, np.full((m, 1), -1)))\n",
    "    b_ub = np.zeros(m)\n",
    "    A_eq = np.ones((1, n+1))\n",
    "    A_eq[0, -1] = 0\n",
    "    b_eq = np.ones(1)\n",
    "    bounds = [(0, None)] * n + [(None, None)]\n",
    "    \n",
    "    res_p = linprog(c, A_ub, b_ub, A_eq, b_eq, bounds, method=method)\n",
    "    \n",
    "    # Dual problem\n",
    "    c = np.zeros(m+1)\n",
    "    c[-1] = -1\n",
    "    A_ub = np.hstack((-U.T, np.full((n, 1), 1)))\n",
    "    b_ub = np.zeros(n)\n",
    "    A_eq = np.ones((1, m+1))\n",
    "    A_eq[0, -1] = 0\n",
    "    b_eq = np.ones(1)\n",
    "    bounds = [(0, None)] * m + [(None, None)]\n",
    "    \n",
    "    res_d = linprog(c, A_ub, b_ub, A_eq, b_eq, bounds, method=method)\n",
    "    \n",
    "    NE = (res_d.x[:-1], res_p.x[:-1])\n",
    "    \n",
    "    return NE"
   ]
  },
  {
   "cell_type": "code",
   "execution_count": 26,
   "metadata": {},
   "outputs": [
    {
     "data": {
      "text/plain": [
       "(array([0.33333333, 0.33333333, 0.33333333]),\n",
       " array([0.33333333, 0.33333333, 0.33333333]))"
      ]
     },
     "execution_count": 26,
     "metadata": {},
     "output_type": "execute_result"
    }
   ],
   "source": [
    "solve_zerosum_lemke_howson(U)"
   ]
  },
  {
   "cell_type": "code",
   "execution_count": 27,
   "metadata": {
    "scrolled": true
   },
   "outputs": [
    {
     "data": {
      "text/plain": [
       "(array([0.33333333, 0.33333333, 0.33333333]),\n",
       " array([0.33333333, 0.33333333, 0.33333333]))"
      ]
     },
     "execution_count": 27,
     "metadata": {},
     "output_type": "execute_result"
    }
   ],
   "source": [
    "solve_zerosum_linprog(U)"
   ]
  },
  {
   "cell_type": "markdown",
   "metadata": {},
   "source": [
    "## ランダムに行列を発生させて計算させてみる"
   ]
  },
  {
   "cell_type": "code",
   "execution_count": 28,
   "metadata": {},
   "outputs": [
    {
     "data": {
      "text/plain": [
       "array([[-1.10268043,  0.66543958,  1.50531492],\n",
       "       [-0.4179199 , -1.13812095,  1.11085131],\n",
       "       [-0.47009829,  0.70588343,  1.57764838],\n",
       "       [ 1.32278522,  0.29501517, -1.48349366]])"
      ]
     },
     "execution_count": 28,
     "metadata": {},
     "output_type": "execute_result"
    }
   ],
   "source": [
    "m, n = 4, 3\n",
    "U = np.random.randn(m, n)\n",
    "U"
   ]
  },
  {
   "cell_type": "code",
   "execution_count": 29,
   "metadata": {},
   "outputs": [
    {
     "data": {
      "text/plain": [
       "(array([0.        , 0.        , 0.57813434, 0.42186566]),\n",
       " array([0.63063987, 0.        , 0.36936013]))"
      ]
     },
     "execution_count": 29,
     "metadata": {},
     "output_type": "execute_result"
    }
   ],
   "source": [
    "solve_zerosum_lemke_howson(U)"
   ]
  },
  {
   "cell_type": "code",
   "execution_count": 30,
   "metadata": {},
   "outputs": [
    {
     "data": {
      "text/plain": [
       "(array([0.        , 0.        , 0.57813434, 0.42186566]),\n",
       " array([0.63063987, 0.        , 0.36936013]))"
      ]
     },
     "execution_count": 30,
     "metadata": {},
     "output_type": "execute_result"
    }
   ],
   "source": [
    "solve_zerosum_linprog(U)"
   ]
  },
  {
   "cell_type": "code",
   "execution_count": null,
   "metadata": {},
   "outputs": [],
   "source": []
  }
 ],
 "metadata": {
  "kernelspec": {
   "display_name": "Python 3",
   "language": "python",
   "name": "python3"
  },
  "language_info": {
   "codemirror_mode": {
    "name": "ipython",
    "version": 3
   },
   "file_extension": ".py",
   "mimetype": "text/x-python",
   "name": "python",
   "nbconvert_exporter": "python",
   "pygments_lexer": "ipython3",
   "version": "3.7.6"
  }
 },
 "nbformat": 4,
 "nbformat_minor": 2
}
