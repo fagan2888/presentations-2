{
 "cells": [
  {
   "cell_type": "markdown",
   "metadata": {},
   "source": [
    "# ゲーム理論概念の Julia での表現\n",
    "\n",
    "**[QuantEcon/Games.jl](https://github.com/QuantEcon/Games.jl) のケース**"
   ]
  },
  {
   "cell_type": "markdown",
   "metadata": {},
   "source": [
    "**$N$ 人標準形ゲーム** ($N$-player normal form game) は\n",
    "\n",
    "* プレイヤーの集合 $\\{1, \\ldots, N\\}$\n",
    "* 各プレイヤー $i$ の行動集合 $\\{1, \\ldots, n_i\\}$\n",
    "* 各プレイヤー $i$ の利得関数 $u_i(a_i, \\ldots, a_{i+N-1})$\n",
    "\n",
    "で構成される．\n",
    "\n",
    "(利得関数 $u_i$ の第1引数はつねに $a_i$ とする．)\n",
    "\n",
    "プレイヤー $i$ の利得関数は $n_i \\times \\cdots \\times n_{i+N-1}$ の $N$ 次元配列で表現できる．"
   ]
  },
  {
   "cell_type": "markdown",
   "metadata": {},
   "source": [
    "例：\n",
    "\n",
    "$\n",
    "\\begin{bmatrix}\n",
    "3, 2 & 1, 1 \\\\\n",
    "0, 0 & 2, 3\n",
    "\\end{bmatrix}\n",
    "$"
   ]
  },
  {
   "cell_type": "markdown",
   "metadata": {},
   "source": [
    "## Julia での表現\n",
    "\n",
    "プレイヤーとゲームのどちらをより基本にすべきか  \n",
    "$\\rightarrow$ プレイヤーを基本とすることにする．"
   ]
  },
  {
   "cell_type": "markdown",
   "metadata": {},
   "source": [
    "### `Player` type\n",
    "\n",
    "人は社会から独立には存在し得ない．\n",
    "\n",
    "プレイヤーは `payoff_array::Array{T,N}` で表現する．\n",
    "\n",
    "* `N`: 社会 (ゲーム) の構成人数"
   ]
  },
  {
   "cell_type": "code",
   "execution_count": 1,
   "metadata": {
    "collapsed": true
   },
   "outputs": [],
   "source": [
    "type Player{N,T<:Real}\n",
    "    payoff_array::Array{T,N}\n",
    "end"
   ]
  },
  {
   "cell_type": "markdown",
   "metadata": {},
   "source": [
    "インデックスが (自分の行動, 相手の行動) となるように値を並べることに注意．"
   ]
  },
  {
   "cell_type": "code",
   "execution_count": 2,
   "metadata": {
    "collapsed": false
   },
   "outputs": [
    {
     "data": {
      "text/plain": [
       "2x2 Array{Int64,2}:\n",
       " 3  1\n",
       " 0  2"
      ]
     },
     "execution_count": 2,
     "metadata": {},
     "output_type": "execute_result"
    }
   ],
   "source": [
    "payoff_array1 = [3 1;\n",
    "                 0 2]"
   ]
  },
  {
   "cell_type": "code",
   "execution_count": 3,
   "metadata": {
    "collapsed": false
   },
   "outputs": [
    {
     "data": {
      "text/plain": [
       "Player{2,Int64}(2x2 Array{Int64,2}:\n",
       " 3  1\n",
       " 0  2)"
      ]
     },
     "execution_count": 3,
     "metadata": {},
     "output_type": "execute_result"
    }
   ],
   "source": [
    "player1 = Player(payoff_array1)"
   ]
  },
  {
   "cell_type": "code",
   "execution_count": 4,
   "metadata": {
    "collapsed": false
   },
   "outputs": [
    {
     "data": {
      "text/plain": [
       "2x2 Array{Int64,2}:\n",
       " 2  0\n",
       " 1  3"
      ]
     },
     "execution_count": 4,
     "metadata": {},
     "output_type": "execute_result"
    }
   ],
   "source": [
    "payoff_array2 = [2 0;\n",
    "                 1 3]"
   ]
  },
  {
   "cell_type": "code",
   "execution_count": 5,
   "metadata": {
    "collapsed": false,
    "scrolled": true
   },
   "outputs": [
    {
     "data": {
      "text/plain": [
       "Player{2,Int64}(2x2 Array{Int64,2}:\n",
       " 2  0\n",
       " 1  3)"
      ]
     },
     "execution_count": 5,
     "metadata": {},
     "output_type": "execute_result"
    }
   ],
   "source": [
    "player2 = Player(payoff_array2)"
   ]
  },
  {
   "cell_type": "markdown",
   "metadata": {},
   "source": [
    "自身の行動の数を返すメソッドを定義しておく．"
   ]
  },
  {
   "cell_type": "code",
   "execution_count": 6,
   "metadata": {
    "collapsed": false
   },
   "outputs": [
    {
     "data": {
      "text/plain": [
       "num_actions (generic function with 1 method)"
      ]
     },
     "execution_count": 6,
     "metadata": {},
     "output_type": "execute_result"
    }
   ],
   "source": [
    "num_actions(p::Player) = size(p.payoff_array)[1]\n",
    "# num_actions(p::Player) = size(p.payoff_array, 1) ???"
   ]
  },
  {
   "cell_type": "markdown",
   "metadata": {},
   "source": [
    "### `NormalFormGame` type\n",
    "\n",
    "`NormalFormGame` タイプは `Player` インスタンスを $N$ 個集めたもの．\n",
    "\n",
    "* `Player` たちの `payoff_array` の `eltype` は共通でないといけないことにする．"
   ]
  },
  {
   "cell_type": "code",
   "execution_count": 7,
   "metadata": {
    "collapsed": false
   },
   "outputs": [],
   "source": [
    "type NormalFormGame{N,T<:Real}\n",
    "    players::NTuple{N,Player{N,T}}\n",
    "    nums_actions::NTuple{N,Int}\n",
    "end"
   ]
  },
  {
   "cell_type": "code",
   "execution_count": 8,
   "metadata": {
    "collapsed": false
   },
   "outputs": [],
   "source": [
    "function NormalFormGame{N,T}(players::NTuple{N,Player{N,T}})\n",
    "    # Check that the shapes of the payoff arrays are consistent\n",
    "    # ...\n",
    "\n",
    "    nums_actions::NTuple{N,Int} =\n",
    "        tuple([num_actions(player) for player in players]...)\n",
    "    return NormalFormGame{N,T}(players, nums_actions)\n",
    "end;"
   ]
  },
  {
   "cell_type": "code",
   "execution_count": 9,
   "metadata": {
    "collapsed": false
   },
   "outputs": [
    {
     "data": {
      "text/plain": [
       "NormalFormGame{2,Int64}((Player{2,Int64}(2x2 Array{Int64,2}:\n",
       " 3  1\n",
       " 0  2),Player{2,Int64}(2x2 Array{Int64,2}:\n",
       " 2  0\n",
       " 1  3)),(2,2))"
      ]
     },
     "execution_count": 9,
     "metadata": {},
     "output_type": "execute_result"
    }
   ],
   "source": [
    "g = NormalFormGame((player1, player2))"
   ]
  },
  {
   "cell_type": "code",
   "execution_count": 10,
   "metadata": {
    "collapsed": false,
    "scrolled": true
   },
   "outputs": [],
   "source": [
    "# @code_warntype NormalFormGame((player1, player2))"
   ]
  },
  {
   "cell_type": "markdown",
   "metadata": {},
   "source": [
    "`Games.jl` では他にもいくつかコンストラクタを用意している．"
   ]
  },
  {
   "cell_type": "markdown",
   "metadata": {},
   "source": [
    "課題：  \n",
    "利得表をプリントするメソッドがほしい．\n",
    "([Issue #7](https://github.com/QuantEcon/Games.jl/issues/7))"
   ]
  },
  {
   "cell_type": "markdown",
   "metadata": {},
   "source": [
    "### 純粋行動 (pure action) と混合行動 (mixed action)\n",
    "\n",
    "以下，\n",
    "\n",
    "* 行動空間 $\\{1, \\ldots, n_i\\}$ の要素を純粋行動\n",
    "* 行動空間上の確率分布 ($n_i$ 次元ベクトル) を混合行動\n",
    "\n",
    "と呼び，純粋行動と混合行動を併せて行動と呼ぶ．"
   ]
  },
  {
   "cell_type": "code",
   "execution_count": 11,
   "metadata": {
    "collapsed": false
   },
   "outputs": [],
   "source": [
    "typealias PureAction Integer\n",
    "typealias MixedAction{T<:Real} Vector{T}\n",
    "typealias Action{T<:Real} Union{PureAction,MixedAction{T}};"
   ]
  },
  {
   "cell_type": "markdown",
   "metadata": {},
   "source": [
    "## `is_nash` を作る\n",
    "\n",
    "`NormalFormGame` インスタンスにおいて，与えられた行動の組 $(a_1, a_2)$ が Nash 均衡かどうかを判定するメソッドを実装したい．\n",
    "\n",
    "* 各プレイヤー $i$ について，$a_i$ が $a_j$ ($j \\neq i$) に対する最適反応 (best response)\n",
    "  であるかどうかを判定する\n",
    "  $\\cdots$ `is_best_response`\n",
    "* 各プレイヤー $i$ について，相手の $a_j$ に対する，自分の行動ごとの利得のベクトルを計算する\n",
    "  $\\cdots$ `payoff_vector`\n",
    "\n",
    "とりあえず，2-player のケースを考える．"
   ]
  },
  {
   "cell_type": "markdown",
   "metadata": {},
   "source": [
    "### `payoff_vector`"
   ]
  },
  {
   "cell_type": "code",
   "execution_count": 12,
   "metadata": {
    "collapsed": true
   },
   "outputs": [],
   "source": [
    "function payoff_vector(player::Player{2}, opponent_action::PureAction)\n",
    "    return player.payoff_array[:, opponent_action]\n",
    "end;"
   ]
  },
  {
   "cell_type": "code",
   "execution_count": 13,
   "metadata": {
    "collapsed": true
   },
   "outputs": [],
   "source": [
    "function payoff_vector(player::Player{2}, opponent_action::MixedAction)\n",
    "    return player.payoff_array * opponent_action\n",
    "end;"
   ]
  },
  {
   "cell_type": "code",
   "execution_count": 14,
   "metadata": {
    "collapsed": false
   },
   "outputs": [
    {
     "data": {
      "text/plain": [
       "2x2 Array{Int64,2}:\n",
       " 3  1\n",
       " 0  2"
      ]
     },
     "execution_count": 14,
     "metadata": {},
     "output_type": "execute_result"
    }
   ],
   "source": [
    "player1.payoff_array"
   ]
  },
  {
   "cell_type": "code",
   "execution_count": 15,
   "metadata": {
    "collapsed": false
   },
   "outputs": [
    {
     "data": {
      "text/plain": [
       "2-element Array{Int64,1}:\n",
       " 3\n",
       " 0"
      ]
     },
     "execution_count": 15,
     "metadata": {},
     "output_type": "execute_result"
    }
   ],
   "source": [
    "payoff_vector(player1, 1)"
   ]
  },
  {
   "cell_type": "code",
   "execution_count": 16,
   "metadata": {
    "collapsed": false,
    "scrolled": true
   },
   "outputs": [
    {
     "data": {
      "text/plain": [
       "2-element Array{Float64,1}:\n",
       " 2.0\n",
       " 1.0"
      ]
     },
     "execution_count": 16,
     "metadata": {},
     "output_type": "execute_result"
    }
   ],
   "source": [
    "payoff_vector(player1, [0.5, 0.5])"
   ]
  },
  {
   "cell_type": "markdown",
   "metadata": {},
   "source": [
    "### `is_best_response`"
   ]
  },
  {
   "cell_type": "code",
   "execution_count": 17,
   "metadata": {
    "collapsed": true
   },
   "outputs": [],
   "source": [
    "function is_best_response(player::Player{2},\n",
    "                          own_action::PureAction,\n",
    "                          opponent_action::Action;\n",
    "                          tol::Float64=1e-8)\n",
    "    payoffs = payoff_vector(player, opponent_action)\n",
    "    payoff_max = maximum(payoffs)\n",
    "    return payoffs[own_action] >= payoff_max - tol\n",
    "end;"
   ]
  },
  {
   "cell_type": "code",
   "execution_count": 18,
   "metadata": {
    "collapsed": true
   },
   "outputs": [],
   "source": [
    "function is_best_response(player::Player{2},\n",
    "                          own_action::MixedAction,\n",
    "                          opponent_action::Action;\n",
    "                          tol::Float64=1e-8)\n",
    "    payoffs = payoff_vector(player, opponent_action)\n",
    "    payoff_max = maximum(payoffs)\n",
    "    return dot(own_action, payoffs) >= payoff_max - tol\n",
    "end;"
   ]
  },
  {
   "cell_type": "code",
   "execution_count": 19,
   "metadata": {
    "collapsed": false
   },
   "outputs": [
    {
     "data": {
      "text/plain": [
       "true"
      ]
     },
     "execution_count": 19,
     "metadata": {},
     "output_type": "execute_result"
    }
   ],
   "source": [
    "is_best_response(player1, 1, 1)"
   ]
  },
  {
   "cell_type": "code",
   "execution_count": 20,
   "metadata": {
    "collapsed": false
   },
   "outputs": [
    {
     "data": {
      "text/plain": [
       "true"
      ]
     },
     "execution_count": 20,
     "metadata": {},
     "output_type": "execute_result"
    }
   ],
   "source": [
    "is_best_response(player1, 1, [0.5, 0.5])"
   ]
  },
  {
   "cell_type": "code",
   "execution_count": 21,
   "metadata": {
    "collapsed": false
   },
   "outputs": [
    {
     "data": {
      "text/plain": [
       "false"
      ]
     },
     "execution_count": 21,
     "metadata": {},
     "output_type": "execute_result"
    }
   ],
   "source": [
    "is_best_response(player1, [0.5, 0.5], [0.5, 0.5])"
   ]
  },
  {
   "cell_type": "code",
   "execution_count": 22,
   "metadata": {
    "collapsed": false
   },
   "outputs": [
    {
     "data": {
      "text/plain": [
       "false"
      ]
     },
     "execution_count": 22,
     "metadata": {},
     "output_type": "execute_result"
    }
   ],
   "source": [
    "is_best_response(player1, [0.5, 0.5], 1)"
   ]
  },
  {
   "cell_type": "code",
   "execution_count": 23,
   "metadata": {
    "collapsed": false
   },
   "outputs": [
    {
     "data": {
      "text/plain": [
       "true"
      ]
     },
     "execution_count": 23,
     "metadata": {},
     "output_type": "execute_result"
    }
   ],
   "source": [
    "is_best_response(player1, 1, [0.25, 0.75])"
   ]
  },
  {
   "cell_type": "code",
   "execution_count": 24,
   "metadata": {
    "collapsed": false
   },
   "outputs": [
    {
     "data": {
      "text/plain": [
       "true"
      ]
     },
     "execution_count": 24,
     "metadata": {},
     "output_type": "execute_result"
    }
   ],
   "source": [
    "is_best_response(player1, 2, [0.25, 0.75])"
   ]
  },
  {
   "cell_type": "markdown",
   "metadata": {},
   "source": [
    "### `is_nash`"
   ]
  },
  {
   "cell_type": "markdown",
   "metadata": {},
   "source": [
    "`(1, 1)` は Nash 均衡である："
   ]
  },
  {
   "cell_type": "code",
   "execution_count": 25,
   "metadata": {
    "collapsed": false
   },
   "outputs": [
    {
     "data": {
      "text/plain": [
       "true"
      ]
     },
     "execution_count": 25,
     "metadata": {},
     "output_type": "execute_result"
    }
   ],
   "source": [
    "is_best_response(g.players[1], 1, 1) && is_best_response(g.players[2], 1, 1)"
   ]
  },
  {
   "cell_type": "markdown",
   "metadata": {},
   "source": [
    "`(1, 2)` は Nash 均衡ではない："
   ]
  },
  {
   "cell_type": "code",
   "execution_count": 26,
   "metadata": {
    "collapsed": false
   },
   "outputs": [
    {
     "data": {
      "text/plain": [
       "false"
      ]
     },
     "execution_count": 26,
     "metadata": {},
     "output_type": "execute_result"
    }
   ],
   "source": [
    "is_best_response(g.players[1], 1, 2) && is_best_response(g.players[2], 2, 1)"
   ]
  },
  {
   "cell_type": "markdown",
   "metadata": {},
   "source": [
    "`([0.75, 0.25], [0.25, 0.75])` は Nash 均衡である："
   ]
  },
  {
   "cell_type": "code",
   "execution_count": 27,
   "metadata": {
    "collapsed": false
   },
   "outputs": [
    {
     "data": {
      "text/plain": [
       "true"
      ]
     },
     "execution_count": 27,
     "metadata": {},
     "output_type": "execute_result"
    }
   ],
   "source": [
    "is_best_response(g.players[1], [0.75, 0.25], [0.25, 0.75]) &&\n",
    "    is_best_response(g.players[2], [0.25, 0.75], [0.75, 0.25])"
   ]
  },
  {
   "cell_type": "markdown",
   "metadata": {},
   "source": [
    "`ActionProfile` を定義しておく："
   ]
  },
  {
   "cell_type": "code",
   "execution_count": 28,
   "metadata": {
    "collapsed": false
   },
   "outputs": [],
   "source": [
    "typealias ActionProfile{T<:Real,N} NTuple{N,Action{T}};"
   ]
  },
  {
   "cell_type": "code",
   "execution_count": 29,
   "metadata": {
    "collapsed": true
   },
   "outputs": [],
   "source": [
    "function is_nash(g::NormalFormGame{2}, action_profile::ActionProfile)\n",
    "    for (i, player) in enumerate(g.players)\n",
    "        own_action, opponent_action =\n",
    "            action_profile[i], action_profile[3-i]\n",
    "        if !(is_best_response(player, own_action, opponent_action))\n",
    "            return false\n",
    "        end\n",
    "    end\n",
    "    return true\n",
    "end;"
   ]
  },
  {
   "cell_type": "code",
   "execution_count": 30,
   "metadata": {
    "collapsed": false
   },
   "outputs": [
    {
     "data": {
      "text/plain": [
       "true"
      ]
     },
     "execution_count": 30,
     "metadata": {},
     "output_type": "execute_result"
    }
   ],
   "source": [
    "is_nash(g, (1, 1))"
   ]
  },
  {
   "cell_type": "code",
   "execution_count": 31,
   "metadata": {
    "collapsed": false
   },
   "outputs": [
    {
     "data": {
      "text/plain": [
       "false"
      ]
     },
     "execution_count": 31,
     "metadata": {},
     "output_type": "execute_result"
    }
   ],
   "source": [
    "is_nash(g, (1, 2))"
   ]
  },
  {
   "cell_type": "code",
   "execution_count": 32,
   "metadata": {
    "collapsed": false
   },
   "outputs": [
    {
     "data": {
      "text/plain": [
       "true"
      ]
     },
     "execution_count": 32,
     "metadata": {},
     "output_type": "execute_result"
    }
   ],
   "source": [
    "is_nash(g, ([0.75, 0.25], [0.25, 0.75]))"
   ]
  },
  {
   "cell_type": "markdown",
   "metadata": {},
   "source": [
    "## 3人以上のケース"
   ]
  },
  {
   "cell_type": "markdown",
   "metadata": {},
   "source": [
    "例：\n",
    "\n",
    "* 行動空間 (共通) $\\{1, 2\\}$\n",
    "\n",
    "* 利得関数 (共通)\n",
    "\n",
    "  $\n",
    "  u_i(a) =\n",
    "  \\begin{cases}\n",
    "  1 & \\text{if $a = (1, 1, 1)$} \\\\\n",
    "  2 & \\text{if $a = (2, 2, 2)$} \\\\\n",
    "  0 & \\text{otherwise}\n",
    "  \\end{cases}\n",
    "  $"
   ]
  },
  {
   "cell_type": "code",
   "execution_count": 33,
   "metadata": {
    "collapsed": false
   },
   "outputs": [
    {
     "data": {
      "text/plain": [
       "2x2x2 Array{Float64,3}:\n",
       "[:, :, 1] =\n",
       " 1.0  0.0\n",
       " 0.0  0.0\n",
       "\n",
       "[:, :, 2] =\n",
       " 0.0  0.0\n",
       " 0.0  2.0"
      ]
     },
     "execution_count": 33,
     "metadata": {},
     "output_type": "execute_result"
    }
   ],
   "source": [
    "payoff_array = zeros(2, 2, 2)\n",
    "for i in 1:2\n",
    "    payoff_array[i, i, i] = i\n",
    "end\n",
    "payoff_array"
   ]
  },
  {
   "cell_type": "code",
   "execution_count": 34,
   "metadata": {
    "collapsed": false
   },
   "outputs": [
    {
     "data": {
      "text/plain": [
       "NormalFormGame{3,Float64}((Player{3,Float64}(2x2x2 Array{Float64,3}:\n",
       "[:, :, 1] =\n",
       " 1.0  0.0\n",
       " 0.0  0.0\n",
       "\n",
       "[:, :, 2] =\n",
       " 0.0  0.0\n",
       " 0.0  2.0),Player{3,Float64}(2x2x2 Array{Float64,3}:\n",
       "[:, :, 1] =\n",
       " 1.0  0.0\n",
       " 0.0  0.0\n",
       "\n",
       "[:, :, 2] =\n",
       " 0.0  0.0\n",
       " 0.0  2.0),Player{3,Float64}(2x2x2 Array{Float64,3}:\n",
       "[:, :, 1] =\n",
       " 1.0  0.0\n",
       " 0.0  0.0\n",
       "\n",
       "[:, :, 2] =\n",
       " 0.0  0.0\n",
       " 0.0  2.0)),(2,2,2))"
      ]
     },
     "execution_count": 34,
     "metadata": {},
     "output_type": "execute_result"
    }
   ],
   "source": [
    "g3 = NormalFormGame(tuple([Player(payoff_array) for i in 1:3]...))"
   ]
  },
  {
   "cell_type": "markdown",
   "metadata": {},
   "source": [
    "### `payoff_vector`"
   ]
  },
  {
   "cell_type": "markdown",
   "metadata": {},
   "source": [
    "$(a_2, a_3)$ に対するプレイヤー1の利得ベクトルは？\n",
    "\n",
    "$\\rightarrow$ $a_3$ を固定するとプレイヤー1とプレイヤー2の2人ゲームと見なすことができる．"
   ]
  },
  {
   "cell_type": "code",
   "execution_count": 35,
   "metadata": {
    "collapsed": true
   },
   "outputs": [],
   "source": [
    "function _reduce_last_player(payoff_array::Array, action::PureAction)\n",
    "    shape = size(payoff_array)\n",
    "    A = reshape(payoff_array, (prod(shape[1:end-1]), shape[end]))\n",
    "    out = A[:, action]\n",
    "    return reshape(out, shape[1:end-1])\n",
    "end;"
   ]
  },
  {
   "cell_type": "code",
   "execution_count": 36,
   "metadata": {
    "collapsed": true
   },
   "outputs": [],
   "source": [
    "function _reduce_last_player(payoff_array::Array, action::MixedAction)\n",
    "    shape = size(payoff_array)\n",
    "    A = reshape(payoff_array, (prod(shape[1:end-1]), shape[end]))\n",
    "    out = A * action\n",
    "    return reshape(out, shape[1:end-1])\n",
    "end;"
   ]
  },
  {
   "cell_type": "code",
   "execution_count": 37,
   "metadata": {
    "collapsed": false
   },
   "outputs": [
    {
     "data": {
      "text/plain": [
       "2x2 Array{Float64,2}:\n",
       " 1.0  0.0\n",
       " 0.0  0.0"
      ]
     },
     "execution_count": 37,
     "metadata": {},
     "output_type": "execute_result"
    }
   ],
   "source": [
    "_reduce_last_player(payoff_array, 1)"
   ]
  },
  {
   "cell_type": "code",
   "execution_count": 38,
   "metadata": {
    "collapsed": false
   },
   "outputs": [
    {
     "data": {
      "text/plain": [
       "2x2 Array{Float64,2}:\n",
       " 0.5  0.0\n",
       " 0.0  1.0"
      ]
     },
     "execution_count": 38,
     "metadata": {},
     "output_type": "execute_result"
    }
   ],
   "source": [
    "_reduce_last_player(payoff_array, [0.5, 0.5])"
   ]
  },
  {
   "cell_type": "markdown",
   "metadata": {},
   "source": [
    "`_reduce_last_player` を再帰的に使う："
   ]
  },
  {
   "cell_type": "code",
   "execution_count": 39,
   "metadata": {
    "collapsed": false
   },
   "outputs": [
    {
     "data": {
      "text/plain": [
       "payoff_vector (generic function with 3 methods)"
      ]
     },
     "execution_count": 39,
     "metadata": {},
     "output_type": "execute_result"
    }
   ],
   "source": [
    "num_opponents{N}(::Player{N}) = N - 1\n",
    "\n",
    "function payoff_vector(player::Player, opponents_actions::ActionProfile)\n",
    "    payoffs = player.payoff_array\n",
    "    for i in num_opponents(player):-1:1\n",
    "        payoffs = _reduce_last_player(payoffs, opponents_actions[i])\n",
    "    end\n",
    "    return payoffs\n",
    "end"
   ]
  },
  {
   "cell_type": "code",
   "execution_count": 40,
   "metadata": {
    "collapsed": false
   },
   "outputs": [
    {
     "data": {
      "text/plain": [
       "2-element Array{Float64,1}:\n",
       " 1.0\n",
       " 0.0"
      ]
     },
     "execution_count": 40,
     "metadata": {},
     "output_type": "execute_result"
    }
   ],
   "source": [
    "payoff_vector(g3.players[1], (1, 1))"
   ]
  },
  {
   "cell_type": "code",
   "execution_count": 41,
   "metadata": {
    "collapsed": false
   },
   "outputs": [
    {
     "data": {
      "text/plain": [
       "2-element Array{Float64,1}:\n",
       " 0.25\n",
       " 0.5 "
      ]
     },
     "execution_count": 41,
     "metadata": {},
     "output_type": "execute_result"
    }
   ],
   "source": [
    "payoff_vector(g3.players[1], ([0.5, 0.5], [0.5, 0.5]))"
   ]
  },
  {
   "cell_type": "markdown",
   "metadata": {},
   "source": [
    "### `is_best_response`\n",
    "\n",
    "2人のケースと同じ．"
   ]
  },
  {
   "cell_type": "code",
   "execution_count": 42,
   "metadata": {
    "collapsed": true
   },
   "outputs": [],
   "source": [
    "function is_best_response(player::Player,\n",
    "                          own_action::PureAction,\n",
    "                          opponents_actions::ActionProfile;\n",
    "                          tol::Float64=1e-8)\n",
    "    payoffs = payoff_vector(player, opponents_actions)\n",
    "    payoff_max = maximum(payoffs)\n",
    "    return payoffs[own_action] >= payoff_max - tol\n",
    "end\n",
    "\n",
    "function is_best_response(player::Player,\n",
    "                          own_action::MixedAction,\n",
    "                          opponents_actions::ActionProfile;\n",
    "                          tol::Float64=1e-8)\n",
    "    payoffs = payoff_vector(player, opponents_actions)\n",
    "    payoff_max = maximum(payoffs)\n",
    "    return dot(own_action, payoffs) >= payoff_max - tol\n",
    "end;"
   ]
  },
  {
   "cell_type": "code",
   "execution_count": 43,
   "metadata": {
    "collapsed": false
   },
   "outputs": [
    {
     "data": {
      "text/plain": [
       "true"
      ]
     },
     "execution_count": 43,
     "metadata": {},
     "output_type": "execute_result"
    }
   ],
   "source": [
    "is_best_response(g3.players[1], 1, (1, 1))"
   ]
  },
  {
   "cell_type": "code",
   "execution_count": 44,
   "metadata": {
    "collapsed": false
   },
   "outputs": [
    {
     "data": {
      "text/plain": [
       "false"
      ]
     },
     "execution_count": 44,
     "metadata": {},
     "output_type": "execute_result"
    }
   ],
   "source": [
    "is_best_response(g3.players[1], [0.5, 0.5], (1, [0.3, 0.7]))"
   ]
  },
  {
   "cell_type": "markdown",
   "metadata": {},
   "source": [
    "### ` is_nash`\n",
    "\n",
    "同様．"
   ]
  },
  {
   "cell_type": "code",
   "execution_count": 45,
   "metadata": {
    "collapsed": true
   },
   "outputs": [],
   "source": [
    "function is_nash(g::NormalFormGame, action_profile::ActionProfile)\n",
    "    for (i, player) in enumerate(g.players)\n",
    "        own_action = action_profile[i]\n",
    "        opponents_actions =\n",
    "            tuple(action_profile[i+1:end]..., action_profile[1:i-1]...)\n",
    "        if !(is_best_response(player, own_action, opponents_actions))\n",
    "            return false\n",
    "        end\n",
    "    end\n",
    "    return true\n",
    "end;"
   ]
  },
  {
   "cell_type": "code",
   "execution_count": 46,
   "metadata": {
    "collapsed": false
   },
   "outputs": [
    {
     "data": {
      "text/plain": [
       "true"
      ]
     },
     "execution_count": 46,
     "metadata": {},
     "output_type": "execute_result"
    }
   ],
   "source": [
    "is_nash(g3, (1, 1, 1))"
   ]
  },
  {
   "cell_type": "code",
   "execution_count": 47,
   "metadata": {
    "collapsed": false
   },
   "outputs": [
    {
     "data": {
      "text/plain": [
       "true"
      ]
     },
     "execution_count": 47,
     "metadata": {},
     "output_type": "execute_result"
    }
   ],
   "source": [
    "is_nash(g3, (2, 2, 2))"
   ]
  },
  {
   "cell_type": "code",
   "execution_count": 48,
   "metadata": {
    "collapsed": false
   },
   "outputs": [
    {
     "data": {
      "text/plain": [
       "true"
      ]
     },
     "execution_count": 48,
     "metadata": {},
     "output_type": "execute_result"
    }
   ],
   "source": [
    "p = 2 - sqrt(2)\n",
    "is_nash(g3, ([p, 1-p], [p, 1-p], [p, 1-p]))"
   ]
  },
  {
   "cell_type": "markdown",
   "metadata": {},
   "source": [
    "### 問題点\n",
    "\n",
    "`_reduce_last_player` で type inference がうまくいってない．\n",
    "([Issue #2](https://github.com/QuantEcon/Games.jl/issues/2#issuecomment-197481488))"
   ]
  },
  {
   "cell_type": "code",
   "execution_count": 49,
   "metadata": {
    "collapsed": false
   },
   "outputs": [
    {
     "name": "stdout",
     "output_type": "stream",
     "text": [
      "Variables:\n",
      "  payoff_array::Array{Float64,3}\n",
      "  action::Int64\n",
      "  shape::Tuple{Int64,Int64,Int64}\n",
      "  A::Array{Float64,2}\n",
      "  out::Array{Float64,1}\n",
      "  ##I#8167::Tuple{Colon,Int64}\n",
      "  ####I#8157#8168::Tuple{Colon,Int64}\n",
      "  ######I#8153#8158#8169::Tuple{Colon,Int64}\n",
      "  #########s29#8119#8154#8159#8170::Bool\n",
      "  ########_var0#8120#8155#8160#8171::Bool\n",
      "  ######_var1#8156#8161#8172::Bool\n",
      "\n",
      "Body:\n",
      "  begin  # In[35], line 2:\n",
      "      shape = (top(tuple))((Base.arraysize)(payoff_array::Array{Float64,3},1)::Int64,(Base.arraysize)(payoff_array::Array{Float64,3},2)::Int64,(Base.arraysize)(payoff_array::Array{Float64,3},3)::Int64)::Tuple{Int64,Int64,Int64} # In[35], line 3:\n",
      "      GenSym(1) = (Base.nfields)(shape::Tuple{Int64,Int64,Int64})::Int64\n",
      "      GenSym(2) = (Base.box)(Int64,(Base.sub_int)(GenSym(1),1))\n",
      "      GenSym(3) = (Main.prod)((Main.getindex)(shape::Tuple{Int64,Int64,Int64},$(Expr(:new, UnitRange{Int64}, 1, :(((top(getfield))(Base.Intrinsics,:select_value)::I)((Base.sle_int)(1,GenSym(2))::Bool,GenSym(2),(Base.box)(Int64,(Base.sub_int)(1,1)))::Int64))))::TUPLE{VARARG{INT64}})::ANY\n",
      "      GenSym(0) = (Base.nfields)(shape::Tuple{Int64,Int64,Int64})::Int64\n",
      "      A = (Main.reshape)(payoff_array::Array{Float64,3},(top(tuple))(GenSym(3),(Base.getfield)(shape::Tuple{Int64,Int64,Int64},GenSym(0))::Int64)::TUPLE{ANY,INT64})::Array{Float64,2} # In[35], line 4:\n",
      "      GenSym(5) = Main.:\n",
      "      GenSym(6) = action::Int64\n",
      "      NewvarNode(symbol(\"#########s29#8119#8154#8159#8170\"))\n",
      "      (Base.arraysize)(A::Array{Float64,2},1)::Int64\n",
      "      unless true goto 9\n",
      "      GenSym(7) = (Base.arraysize)(A::Array{Float64,2},2)::Int64\n",
      "      unless (Base.sle_int)(1,GenSym(6))::Bool goto 7\n",
      "      ########_var0#8120#8155#8160#8171 = (Base.sle_int)(GenSym(6),GenSym(7))::Bool\n",
      "      goto 8\n",
      "      7: \n",
      "      ########_var0#8120#8155#8160#8171 = false\n",
      "      8: \n",
      "      #########s29#8119#8154#8159#8170 = ########_var0#8120#8155#8160#8171::Bool\n",
      "      goto 10\n",
      "      9: \n",
      "      #########s29#8119#8154#8159#8170 = false\n",
      "      10: \n",
      "      unless #########s29#8119#8154#8159#8170::Bool goto 11\n",
      "      ######_var1#8156#8161#8172 = #########s29#8119#8154#8159#8170::Bool\n",
      "      goto 12\n",
      "      11: \n",
      "      ######_var1#8156#8161#8172 = (Base.throw_boundserror)(A::Array{Float64,2},(top(tuple))(GenSym(5),GenSym(6))::Tuple{Colon,Int64})::UNION{}\n",
      "      12: \n",
      "      ######_var1#8156#8161#8172::Bool\n",
      "      out = (Base._unsafe_getindex)($(Expr(:new, :((top(getfield))(Base,:LinearFast)::Type{Base.LinearFast}))),A::Array{Float64,2},GenSym(5),action::Int64)::Array{Float64,1} # In[35], line 5:\n",
      "      GenSym(8) = (Base.nfields)(shape::Tuple{Int64,Int64,Int64})::Int64\n",
      "      GenSym(9) = (Base.box)(Int64,(Base.sub_int)(GenSym(8),1))\n",
      "      return (Main.reshape)(out::Array{Float64,1},(Main.getindex)(shape::Tuple{Int64,Int64,Int64},$(Expr(:new, UnitRange{Int64}, 1, :(((top(getfield))(Base.Intrinsics,:select_value)::I)((Base.sle_int)(1,GenSym(9))::Bool,GenSym(9),(Base.box)(Int64,(Base.sub_int)(1,1)))::Int64))))::TUPLE{VARARG{INT64}})::ARRAY{FLOAT64,N}\n",
      "  end::ARRAY{FLOAT64,N}\n"
     ]
    }
   ],
   "source": [
    "@code_warntype _reduce_last_player(payoff_array, 1)"
   ]
  },
  {
   "cell_type": "markdown",
   "metadata": {},
   "source": [
    "再掲："
   ]
  },
  {
   "cell_type": "code",
   "execution_count": 50,
   "metadata": {
    "collapsed": true
   },
   "outputs": [],
   "source": [
    "function func{T<:Real,N}(a::Array{T,N}, x::Vector{Float64})\n",
    "    shape = size(a)\n",
    "    shape_reduced = shape[1:end-1]\n",
    "    b = reshape(a, (prod(shape_reduced), shape[end]))\n",
    "    out = b * x\n",
    "    return reshape(out, shape_reduced)\n",
    "end;"
   ]
  },
  {
   "cell_type": "code",
   "execution_count": 51,
   "metadata": {
    "collapsed": false,
    "scrolled": true
   },
   "outputs": [
    {
     "data": {
      "text/plain": [
       "(1,2,3,4)"
      ]
     },
     "execution_count": 51,
     "metadata": {},
     "output_type": "execute_result"
    }
   ],
   "source": [
    "a = ones(1, 2, 3, 4)\n",
    "size(a)"
   ]
  },
  {
   "cell_type": "code",
   "execution_count": 52,
   "metadata": {
    "collapsed": false
   },
   "outputs": [
    {
     "data": {
      "text/plain": [
       "4-element Array{Float64,1}:\n",
       " 1.0\n",
       " 1.0\n",
       " 1.0\n",
       " 1.0"
      ]
     },
     "execution_count": 52,
     "metadata": {},
     "output_type": "execute_result"
    }
   ],
   "source": [
    "x = ones(size(a)[end])"
   ]
  },
  {
   "cell_type": "code",
   "execution_count": 53,
   "metadata": {
    "collapsed": false
   },
   "outputs": [
    {
     "data": {
      "text/plain": [
       "1x2x3 Array{Float64,3}:\n",
       "[:, :, 1] =\n",
       " 4.0  4.0\n",
       "\n",
       "[:, :, 2] =\n",
       " 4.0  4.0\n",
       "\n",
       "[:, :, 3] =\n",
       " 4.0  4.0"
      ]
     },
     "execution_count": 53,
     "metadata": {},
     "output_type": "execute_result"
    }
   ],
   "source": [
    "func(a, x)"
   ]
  },
  {
   "cell_type": "code",
   "execution_count": 54,
   "metadata": {
    "collapsed": false,
    "scrolled": false
   },
   "outputs": [
    {
     "name": "stdout",
     "output_type": "stream",
     "text": [
      "Variables:\n",
      "  a::Array{Float64,4}\n",
      "  x::Array{Float64,1}\n",
      "  shape::Tuple{Int64,Int64,Int64,Int64}\n",
      "  shape_reduced::TUPLE{VARARG{INT64}}\n",
      "  b::Array{Float64,2}\n",
      "  out::Array{Float64,1}\n",
      "  ##TS#8483::Type{Float64}\n",
      "  ####dims#8288#8484::Tuple{Int64}\n",
      "\n",
      "Body:\n",
      "  begin  # In[50], line 2:\n",
      "      shape = (top(tuple))((Base.arraysize)(a::Array{Float64,4},1)::Int64,(Base.arraysize)(a::Array{Float64,4},2)::Int64,(Base.arraysize)(a::Array{Float64,4},3)::Int64,(Base.arraysize)(a::Array{Float64,4},4)::Int64)::Tuple{Int64,Int64,Int64,Int64} # In[50], line 3:\n",
      "      GenSym(0) = (Base.nfields)(shape::Tuple{Int64,Int64,Int64,Int64})::Int64\n",
      "      GenSym(1) = (Base.box)(Int64,(Base.sub_int)(GenSym(0),1))\n",
      "      shape_reduced = (Main.getindex)(shape::Tuple{Int64,Int64,Int64,Int64},$(Expr(:new, UnitRange{Int64}, 1, :(((top(getfield))(Base.Intrinsics,:select_value)::I)((Base.sle_int)(1,GenSym(1))::Bool,GenSym(1),(Base.box)(Int64,(Base.sub_int)(1,1)))::Int64))))::TUPLE{VARARG{INT64}} # In[50], line 4:\n",
      "      GenSym(3) = (Main.prod)(shape_reduced::TUPLE{VARARG{INT64}})::ANY\n",
      "      GenSym(2) = (Base.nfields)(shape::Tuple{Int64,Int64,Int64,Int64})::Int64\n",
      "      b = (Main.reshape)(a::Array{Float64,4},(top(tuple))(GenSym(3),(Base.getfield)(shape::Tuple{Int64,Int64,Int64,Int64},GenSym(2))::Int64)::TUPLE{ANY,INT64})::Array{Float64,2} # In[50], line 5:\n",
      "      ##TS#8483 = Float64\n",
      "      GenSym(4) = (top(tuple))((Base.arraysize)(b::Array{Float64,2},1)::Int64)::Tuple{Int64}\n",
      "      GenSym(5) = (top(ccall))(:jl_new_array,(top(apply_type))(Base.Array,Float64,1)::Type{Array{Float64,1}},(top(svec))(Base.Any,Base.Any)::SimpleVector,Array{Float64,1},0,GenSym(4),0)::Array{Float64,1}\n",
      "      out = (Base.LinAlg.gemv!)(GenSym(5),'N',b::Array{Float64,2},x::Array{Float64,1})::Array{Float64,1} # In[50], line 6:\n",
      "      return (Main.reshape)(out::Array{Float64,1},shape_reduced::TUPLE{VARARG{INT64}})::ARRAY{FLOAT64,N}\n",
      "  end::ARRAY{FLOAT64,N}\n"
     ]
    }
   ],
   "source": [
    "@code_warntype func(a, x)"
   ]
  },
  {
   "cell_type": "markdown",
   "metadata": {},
   "source": [
    "`@generated` というのを使うと (だいたい) うまくいく："
   ]
  },
  {
   "cell_type": "code",
   "execution_count": 55,
   "metadata": {
    "collapsed": false
   },
   "outputs": [
    {
     "data": {
      "text/plain": [
       "func_g (generic function with 1 method)"
      ]
     },
     "execution_count": 55,
     "metadata": {},
     "output_type": "execute_result"
    }
   ],
   "source": [
    "@generated function func_g{T<:Real,N}(a::Array{T,N}, x::Vector{Float64})\n",
    "    return quote\n",
    "        $(M = N - 1)\n",
    "        shape = size(a)\n",
    "        shape_reduced = shape[1:end-1]::NTuple{$M,Int}\n",
    "        b = reshape(a, (prod(shape_reduced), shape[end]))\n",
    "        out = b * x\n",
    "        return reshape(out, shape_reduced)\n",
    "    end\n",
    "end"
   ]
  },
  {
   "cell_type": "code",
   "execution_count": 56,
   "metadata": {
    "collapsed": false
   },
   "outputs": [
    {
     "data": {
      "text/plain": [
       "1x2x3 Array{Float64,3}:\n",
       "[:, :, 1] =\n",
       " 4.0  4.0\n",
       "\n",
       "[:, :, 2] =\n",
       " 4.0  4.0\n",
       "\n",
       "[:, :, 3] =\n",
       " 4.0  4.0"
      ]
     },
     "execution_count": 56,
     "metadata": {},
     "output_type": "execute_result"
    }
   ],
   "source": [
    "func_g(a, x)"
   ]
  },
  {
   "cell_type": "code",
   "execution_count": 57,
   "metadata": {
    "collapsed": false
   },
   "outputs": [
    {
     "name": "stdout",
     "output_type": "stream",
     "text": [
      "Variables:\n",
      "  a::Array{Float64,4}\n",
      "  x::Array{Float64,1}\n",
      "  shape::Tuple{Int64,Int64,Int64,Int64}\n",
      "  shape_reduced::Tuple{Int64,Int64,Int64}\n",
      "  b::Array{Float64,2}\n",
      "  out::Array{Float64,1}\n",
      "  ####xs#8485#8492::Tuple{}\n",
      "  ##TS#8493::Type{Float64}\n",
      "  ####dims#8288#8494::Tuple{Int64}\n",
      "\n",
      "Body:\n",
      "  begin  # In[55], line 2: # In[55], line 3: # In[55], line 4:\n",
      "      shape = (top(tuple))((Base.arraysize)(a::Array{Float64,4},1)::Int64,(Base.arraysize)(a::Array{Float64,4},2)::Int64,(Base.arraysize)(a::Array{Float64,4},3)::Int64,(Base.arraysize)(a::Array{Float64,4},4)::Int64)::Tuple{Int64,Int64,Int64,Int64} # In[55], line 5:\n",
      "      GenSym(0) = (Base.nfields)(shape::Tuple{Int64,Int64,Int64,Int64})::Int64\n",
      "      GenSym(1) = (Base.box)(Int64,(Base.sub_int)(GenSym(0),1))\n",
      "      shape_reduced = (top(typeassert))((Main.getindex)(shape::Tuple{Int64,Int64,Int64,Int64},$(Expr(:new, UnitRange{Int64}, 1, :(((top(getfield))(Base.Intrinsics,:select_value)::I)((Base.sle_int)(1,GenSym(1))::Bool,GenSym(1),(Base.box)(Int64,(Base.sub_int)(1,1)))::Int64))))::TUPLE{VARARG{INT64}},Tuple{Int64,Int64,Int64})::Tuple{Int64,Int64,Int64} # In[55], line 6:\n",
      "      GenSym(2) = (Base.nfields)(shape::Tuple{Int64,Int64,Int64,Int64})::Int64\n",
      "      b = (Main.reshape)(a::Array{Float64,4},(top(tuple))((Base.box)(Int64,(Base.mul_int)((Base.box)(Int64,(Base.mul_int)((top(getfield))(shape_reduced::Tuple{Int64,Int64,Int64},1)::Int64,(top(getfield))(shape_reduced::Tuple{Int64,Int64,Int64},2)::Int64)),(top(getfield))(shape_reduced::Tuple{Int64,Int64,Int64},3)::Int64)),(Base.getfield)(shape::Tuple{Int64,Int64,Int64,Int64},GenSym(2))::Int64)::Tuple{Int64,Int64})::Array{Float64,2} # In[55], line 7:\n",
      "      ##TS#8493 = Float64\n",
      "      GenSym(3) = (top(tuple))((Base.arraysize)(b::Array{Float64,2},1)::Int64)::Tuple{Int64}\n",
      "      GenSym(4) = (top(ccall))(:jl_new_array,(top(apply_type))(Base.Array,Float64,1)::Type{Array{Float64,1}},(top(svec))(Base.Any,Base.Any)::SimpleVector,Array{Float64,1},0,GenSym(3),0)::Array{Float64,1}\n",
      "      out = (Base.LinAlg.gemv!)(GenSym(4),'N',b::Array{Float64,2},x::Array{Float64,1})::Array{Float64,1} # In[55], line 8:\n",
      "      return (Main.reshape)(out::Array{Float64,1},shape_reduced::Tuple{Int64,Int64,Int64})::Array{Float64,3}\n",
      "  end::Array{Float64,3}\n"
     ]
    }
   ],
   "source": [
    "@code_warntype func_g(a, x)"
   ]
  },
  {
   "cell_type": "markdown",
   "metadata": {},
   "source": [
    "こういう難しいのを使わない \"普通の\" 書き方でうまい方法はないものでしょうか．\n",
    "([julia-wakalang Issue #18](https://github.com/JuliaTokyo/julia-wakalang/issues/18))"
   ]
  },
  {
   "cell_type": "code",
   "execution_count": null,
   "metadata": {
    "collapsed": true
   },
   "outputs": [],
   "source": []
  }
 ],
 "metadata": {
  "anaconda-cloud": {},
  "kernelspec": {
   "display_name": "Julia 0.4.6",
   "language": "julia",
   "name": "julia-0.4"
  },
  "language_info": {
   "file_extension": ".jl",
   "mimetype": "application/julia",
   "name": "julia",
   "version": "0.4.6"
  }
 },
 "nbformat": 4,
 "nbformat_minor": 0
}
