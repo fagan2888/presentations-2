{
 "cells": [
  {
   "cell_type": "markdown",
   "metadata": {},
   "source": [
    "# 最適経済成長理論の基本モデル"
   ]
  },
  {
   "cell_type": "markdown",
   "metadata": {},
   "source": [
    "(http://quant-econ.net/jl/dp_intro.html より)"
   ]
  },
  {
   "cell_type": "markdown",
   "metadata": {},
   "source": [
    "## 定式化"
   ]
  },
  {
   "cell_type": "markdown",
   "metadata": {},
   "source": [
    "次のような動学的最適化問題を考える．\n",
    "\n",
    "* 離散時間 $t = 0, 1, 2, \\ldots$\n",
    "* 各期初の資本 $k_t$ を用いて生産が行われ $f(k_t)$ だけの産出量を得る．\n",
    "* そのうち $c_t$ 分だけ消費し，残り $f(k_t) - c_t$ を来期に回す ($k_{t+1}$ になる)．\n",
    "* $k_0$ は所与．\n",
    "* 消費 $c_t$ から $u(c_t)$ だけの効用を得る．\n",
    "* 将来の効用は割引因子 $\\beta \\in (0, 1)$ で割り引かれる．\n",
    "  第 $t$ 期の消費 $c_t$ の現在価値は $\\beta^t u(c_t)$．\n",
    "\n",
    "消費からの効用の現在価値の総和を最大にするような消費経路は何か．"
   ]
  },
  {
   "cell_type": "markdown",
   "metadata": {},
   "source": [
    "数式で書くと：\n",
    "$$\n",
    "\\begin{align*}\n",
    "    &\\max_{\\{c_t\\}_{t=0}^{\\infty}} \\sum_{t=0}^{\\infty} \\beta^t u(c_t) \\\\\\\\\n",
    "    &\\ \\text{ s.t. }\\ k_{t+1} = f(k_t) - c_t,\\quad\n",
    "     \\text{$k_0$: given}\n",
    "\\end{align*}\n",
    "$$"
   ]
  },
  {
   "cell_type": "markdown",
   "metadata": {},
   "source": [
    "目的関数の最大値を初期条件 $k_0$ の関数として $v^*(k_0)$ と書く\n",
    "(最適解の存在を保証する条件が満たされていると暗黙に仮定)．  \n",
    "この関数 $v^*$ を最適価値関数 (optimal value function)，あるいは単に価値関数という．"
   ]
  },
  {
   "cell_type": "markdown",
   "metadata": {},
   "source": [
    "## Bellman の最適性原理 (動的計画法の原理)"
   ]
  },
  {
   "cell_type": "markdown",
   "metadata": {},
   "source": [
    "* 実は，ある関数 $\\sigma\\colon k_t \\mapsto c_t$ が存在して最適消費経路は\n",
    "  $$\n",
    "  \\sigma(k_0), \\sigma(k_1), \\sigma(k_2), \\ldots\n",
    "  $$\n",
    "  で与えられる．\n",
    "  そのような関数 $\\sigma$ を最適政策関数 (optimal policy function)，あるいは単に最適政策という．\n",
    "* 価値関数 $v^*$ は関数方程式 (Bellman 方程式)\n",
    "  $$\n",
    "  v(k) = \\max_{c} u(c) + \\beta v(f(k) - c)\n",
    "  $$\n",
    "  の解である．\n",
    "* 各 $k$ に対して，最適政策の値 $\\sigma(k)$ は (静学的な) 最大化問題\n",
    "  $$\n",
    "  \\max_{c} u(c) + \\beta v^*(f(k) - c)\n",
    "  $$\n",
    "  の解になっている．\n",
    "* よって，価値関数 $v^*$ が求まればよい．"
   ]
  },
  {
   "cell_type": "markdown",
   "metadata": {},
   "source": [
    "## Bellman Operator"
   ]
  },
  {
   "cell_type": "markdown",
   "metadata": {},
   "source": [
    "* 価値関数 $v^*$ は，Bellman operator と呼ばれる汎関数 (関数を関数に写す関数)\n",
    "  $$\n",
    "  T(v)(k) = \\max_c u(c) + \\beta v(f(k) - c)\n",
    "  $$\n",
    "  の不動点 (fixed point) である．\n",
    "* Bellman operator $T$ は，$\\beta \\in (0, 1)$ を係数とする縮小写像 (contraction mapping) である．\n",
    "* したがって，$v^*$ は $T$ の唯一の不動点であり，また，任意の関数 $v_0$ に対して関数列\n",
    "  $$\n",
    "  T(v_0), T(T(v_0)), T(T(T(v_0))), \\ldots\n",
    "  $$\n",
    "  の一様収束先になっている．\n",
    "* つまり，適当に初期関数 $v_0$ を決めてそれに繰り返し $T$ を施していけば $v^*$ (の近似) が求まる\n",
    "  (\"value iteration\")．"
   ]
  },
  {
   "cell_type": "markdown",
   "metadata": {},
   "source": [
    "## `QuantEcon.jl` を使って解く"
   ]
  },
  {
   "cell_type": "code",
   "execution_count": 1,
   "metadata": {
    "collapsed": false
   },
   "outputs": [
    {
     "name": "stderr",
     "output_type": "stream",
     "text": [
      "INFO: Loading help data...\n"
     ]
    }
   ],
   "source": [
    "using QuantEcon, QuantEcon.Models\n",
    "using PyPlot"
   ]
  },
  {
   "cell_type": "markdown",
   "metadata": {},
   "source": [
    "具体的な関数形として\n",
    "* $f(k) = k^{\\alpha}, \\quad \\alpha = 0.65$\n",
    "* $u(c) = \\log c$\n",
    "\n",
    "を用いる．  \n",
    "(実は，このケースは手で解ける．)\n",
    "\n",
    "また $\\beta = 0.95$ とする．"
   ]
  },
  {
   "cell_type": "code",
   "execution_count": 2,
   "metadata": {
    "collapsed": false
   },
   "outputs": [
    {
     "data": {
      "text/plain": [
       "0.95"
      ]
     },
     "execution_count": 2,
     "metadata": {},
     "output_type": "execute_result"
    }
   ],
   "source": [
    "# Production function\n",
    "a = 0.65\n",
    "f(k) = k^a\n",
    "\n",
    "# Instantaneous utility function\n",
    "u(c) = log(c)\n",
    "\n",
    "# Discount factor\n",
    "b = 0.95"
   ]
  },
  {
   "cell_type": "markdown",
   "metadata": {},
   "source": [
    "モデル上は状態 (資本量) $k$ は連続変数だが，数値計算のためには離散化しないといけない．"
   ]
  },
  {
   "cell_type": "code",
   "execution_count": 3,
   "metadata": {
    "collapsed": false
   },
   "outputs": [
    {
     "data": {
      "text/plain": [
       "150"
      ]
     },
     "execution_count": 3,
     "metadata": {},
     "output_type": "execute_result"
    }
   ],
   "source": [
    "# Grid\n",
    "# grid_min = 1e-6\n",
    "grid_max = 2\n",
    "grid_size = 150"
   ]
  },
  {
   "cell_type": "markdown",
   "metadata": {},
   "source": [
    "`QuantEcon.Models` の `GrowthModel` タイプのインスタンスを作る："
   ]
  },
  {
   "cell_type": "code",
   "execution_count": 4,
   "metadata": {
    "collapsed": false
   },
   "outputs": [
    {
     "data": {
      "text/plain": [
       "GrowthModel(f,0.95,u,2,150,1.0e-6:0.013422812080536913:2.0)"
      ]
     },
     "execution_count": 4,
     "metadata": {},
     "output_type": "execute_result"
    }
   ],
   "source": [
    "gm = GrowthModel(f, b, u, grid_max, grid_size)"
   ]
  },
  {
   "cell_type": "markdown",
   "metadata": {},
   "source": [
    "`bellman_operator` メソッドは (その名の通り) Bellman operator を生成する：\n",
    "\n",
    "(モデル上は $v$ は連続変数についての関数だが，ここでは長さ `grid_size` の配列．\n",
    "内部で線形補間を行っている．)"
   ]
  },
  {
   "cell_type": "code",
   "execution_count": 5,
   "metadata": {
    "collapsed": false
   },
   "outputs": [
    {
     "data": {
      "text/plain": [
       "T (generic function with 1 method)"
      ]
     },
     "execution_count": 5,
     "metadata": {},
     "output_type": "execute_result"
    }
   ],
   "source": [
    "T(v) = bellman_operator(gm, v)"
   ]
  },
  {
   "cell_type": "markdown",
   "metadata": {},
   "source": [
    "Value iteration によって価値関数 $v^*$ を求める．\n",
    "\n",
    "`compute_fixed_point` は初期関数 `v_0` に operator `T` を何度も (最大 `max_iter` 回) 施す．  \n",
    "変化分が `err_tol` (デフォルト値 `1e-3`) 以下になったら止まる．"
   ]
  },
  {
   "cell_type": "code",
   "execution_count": 6,
   "metadata": {
    "collapsed": false
   },
   "outputs": [
    {
     "name": "stdout",
     "output_type": "stream",
     "text": [
      "Compute iterate 10 with error 5.664717534847441\n",
      "Compute iterate 20 with error 3.3916756352375614\n",
      "Compute iterate 30 with error 2.0307214868152528\n",
      "Compute iterate 40 with error 1.2148385533285193\n",
      "Compute iterate 50 with error 0.7232659896269524\n",
      "Compute iterate 60 with error 0.4292608955834396\n",
      "Compute iterate 70 with error 0.25433714483060044\n",
      "Compute iterate 80 with error 0.15055392764998032\n",
      "Compute iterate 90 with error 0.08907378584103753\n",
      "Compute iterate 100 with error 0.05268491633597705\n",
      "Compute iterate 110 with error 0.031157353832242052\n",
      "Compute iterate 120 with error 0.018424987689257932\n",
      "Compute iterate 130 with error 0.010895480445753947\n",
      "Compute iterate 140 with error 0.006443027256182177\n",
      "Compute iterate 150 with error 0.003810175465417842\n",
      "Compute iterate 160 with error 0.002253282258351419\n",
      "Compute iterate 170 with error 0.001332613970021157\n",
      "Converged in 176 steps\n"
     ]
    },
    {
     "data": {
      "text/plain": [
       "150-element Array{Float64,1}:\n",
       " -179.345 \n",
       "  -42.127 \n",
       "  -40.9424\n",
       "  -40.2484\n",
       "  -39.7556\n",
       "  -39.3758\n",
       "  -39.0661\n",
       "  -38.8042\n",
       "  -38.5773\n",
       "  -38.3772\n",
       "  -38.198 \n",
       "  -38.0355\n",
       "  -37.8871\n",
       "    ⋮     \n",
       "  -33.7352\n",
       "  -33.7229\n",
       "  -33.7108\n",
       "  -33.6986\n",
       "  -33.6866\n",
       "  -33.6747\n",
       "  -33.6628\n",
       "  -33.651 \n",
       "  -33.6393\n",
       "  -33.6277\n",
       "  -33.6161\n",
       "  -33.6047"
      ]
     },
     "execution_count": 6,
     "metadata": {},
     "output_type": "execute_result"
    }
   ],
   "source": [
    "v_0 = zeros(grid_size)\n",
    "v_star = compute_fixed_point(T, v_0, max_iter=200)"
   ]
  },
  {
   "cell_type": "markdown",
   "metadata": {},
   "source": [
    "価値関数 $v^*$ の様子："
   ]
  },
  {
   "cell_type": "code",
   "execution_count": 7,
   "metadata": {
    "collapsed": false
   },
   "outputs": [
    {
     "data": {
      "image/png": "[encoded data removed]",
      "text/plain": [
       "Figure(PyObject <matplotlib.figure.Figure object at 0x117c66e10>)"
      ]
     },
     "metadata": {},
     "output_type": "display_data"
    },
    {
     "data": {
      "text/plain": [
       "1-element Array{Any,1}:\n",
       " PyObject <matplotlib.lines.Line2D object at 0x119db9290>"
      ]
     },
     "execution_count": 7,
     "metadata": {},
     "output_type": "execute_result"
    }
   ],
   "source": [
    "fig, ax = subplots()\n",
    "ax[:set_title](\"Optimal value function\")\n",
    "ax[:set_xlabel](\"\\$k\\$\")\n",
    "ax[:set_ylabel](\"\\$v^*(k)\\$\")\n",
    "ax[:set_ylim](-40, -30)\n",
    "ax[:plot](gm.grid, v_star)"
   ]
  },
  {
   "cell_type": "markdown",
   "metadata": {},
   "source": [
    "最適政策 $\\sigma$ を求める．  \n",
    "`bellman_operator` は `ret_policy=true` とすると max の代わりに argmax を返す．"
   ]
  },
  {
   "cell_type": "code",
   "execution_count": 8,
   "metadata": {
    "collapsed": false
   },
   "outputs": [
    {
     "data": {
      "text/plain": [
       "150-element Array{Float64,1}:\n",
       " 0.00010297\n",
       " 0.0204209 \n",
       " 0.0372028 \n",
       " 0.0456173 \n",
       " 0.0554709 \n",
       " 0.0653724 \n",
       " 0.073685  \n",
       " 0.0807593 \n",
       " 0.0869278 \n",
       " 0.0952353 \n",
       " 0.103795  \n",
       " 0.11243   \n",
       " 0.117268  \n",
       " ⋮         \n",
       " 0.566688  \n",
       " 0.57371   \n",
       " 0.577087  \n",
       " 0.577087  \n",
       " 0.58125   \n",
       " 0.585162  \n",
       " 0.585162  \n",
       " 0.588636  \n",
       " 0.590912  \n",
       " 0.590912  \n",
       " 0.595871  \n",
       " 0.602725  "
      ]
     },
     "execution_count": 8,
     "metadata": {},
     "output_type": "execute_result"
    }
   ],
   "source": [
    "sigma = bellman_operator(gm, v_star, ret_policy=true)"
   ]
  },
  {
   "cell_type": "code",
   "execution_count": 9,
   "metadata": {
    "collapsed": false
   },
   "outputs": [
    {
     "data": {
      "image/png": "[encoded data removed]",
      "text/plain": [
       "Figure(PyObject <matplotlib.figure.Figure object at 0x119db9190>)"
      ]
     },
     "metadata": {},
     "output_type": "display_data"
    },
    {
     "data": {
      "text/plain": [
       "1-element Array{Any,1}:\n",
       " PyObject <matplotlib.lines.Line2D object at 0x11a415f50>"
      ]
     },
     "execution_count": 9,
     "metadata": {},
     "output_type": "execute_result"
    }
   ],
   "source": [
    "fig, ax = subplots()\n",
    "ax[:set_title](\"Optimal policy function\")\n",
    "ax[:set_xlabel](\"\\$k\\$\")\n",
    "ax[:set_ylabel](\"\\$\\\\sigma(k)\\$\")\n",
    "ax[:plot](gm.grid, sigma)"
   ]
  },
  {
   "cell_type": "markdown",
   "metadata": {},
   "source": [
    "最後に，最適政策 $\\sigma$ の下での資本量の推移を見る．  \n",
    "(`sigma` は長さ `grid_size` の配列．\n",
    "補間しないといけない．)"
   ]
  },
  {
   "cell_type": "code",
   "execution_count": 10,
   "metadata": {
    "collapsed": false
   },
   "outputs": [],
   "source": [
    "using Grid: CoordInterpGrid, BCnan, InterpLinear\n",
    "\n",
    "sigma_interpolated =\n",
    "    CoordInterpGrid(gm.grid, sigma, BCnan, InterpLinear)\n",
    "\n",
    "series_length = 25\n",
    "\n",
    "k = Array(Float64, series_length)\n",
    "k[1] = 0.1\n",
    "\n",
    "for t=1:series_length-1\n",
    "    k[t+1] = gm.f(k[t]) - sigma_interpolated[k[t]]\n",
    "end"
   ]
  },
  {
   "cell_type": "code",
   "execution_count": 11,
   "metadata": {
    "collapsed": false
   },
   "outputs": [
    {
     "data": {
      "image/png": "[encoded data removed]",
      "text/plain": [
       "Figure(PyObject <matplotlib.figure.Figure object at 0x11a446450>)"
      ]
     },
     "metadata": {},
     "output_type": "display_data"
    },
    {
     "data": {
      "text/plain": [
       "1-element Array{Any,1}:\n",
       " PyObject <matplotlib.lines.Line2D object at 0x11a845d90>"
      ]
     },
     "execution_count": 11,
     "metadata": {},
     "output_type": "execute_result"
    }
   ],
   "source": [
    "fig, ax = subplots()\n",
    "ax[:set_title](\"Capital accumulation\")\n",
    "ax[:set_xlabel](\"\\$t\\$\")\n",
    "ax[:set_ylabel](\"\\$k_t\\$\")\n",
    "ax[:set_ylim](0.1, 0.3)\n",
    "ax[:plot](0:series_length-1, k, \"o-\")"
   ]
  },
  {
   "cell_type": "code",
   "execution_count": null,
   "metadata": {
    "collapsed": true
   },
   "outputs": [],
   "source": []
  }
 ],
 "metadata": {
  "kernelspec": {
   "display_name": "Julia 0.3.10",
   "language": "julia",
   "name": "julia-0.3"
  },
  "language": "Julia",
  "language_info": {
   "name": "julia",
   "version": "0.3.10"
  }
 },
 "nbformat": 4,
 "nbformat_minor": 0
}
